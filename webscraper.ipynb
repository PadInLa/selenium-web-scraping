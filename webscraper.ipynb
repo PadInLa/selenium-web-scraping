{
 "cells": [
  {
   "cell_type": "markdown",
   "metadata": {},
   "source": [
    "# Librerías"
   ]
  },
  {
   "cell_type": "code",
   "execution_count": 4,
   "metadata": {},
   "outputs": [],
   "source": [
    "from selenium import webdriver\n",
    "from selenium.webdriver.chrome.service import Service\n",
    "from webdriver_manager.chrome import ChromeDriverManager\n",
    "from selenium.webdriver.common.by import By\n",
    "from selenium.webdriver.common.keys import Keys\n",
    "from selenium.common.exceptions import NoSuchElementException\n",
    "from selenium.common.exceptions import ElementNotInteractableException\n",
    "from selenium.webdriver.support.ui import WebDriverWait\n",
    "from selenium.webdriver.support import expected_conditions as EC\n",
    "import time\n",
    "import pandas as pd"
   ]
  },
  {
   "cell_type": "markdown",
   "metadata": {},
   "source": [
    "# Scraping"
   ]
  },
  {
   "cell_type": "code",
   "execution_count": 8,
   "metadata": {},
   "outputs": [
    {
     "ename": "KeyboardInterrupt",
     "evalue": "",
     "output_type": "error",
     "traceback": [
      "\u001b[1;31m---------------------------------------------------------------------------\u001b[0m",
      "\u001b[1;31mKeyboardInterrupt\u001b[0m                         Traceback (most recent call last)",
      "Cell \u001b[1;32mIn[8], line 25\u001b[0m\n\u001b[0;32m     23\u001b[0m \u001b[38;5;66;03m# Close the cookie banner\u001b[39;00m\n\u001b[0;32m     24\u001b[0m \u001b[38;5;28;01mtry\u001b[39;00m:\n\u001b[1;32m---> 25\u001b[0m     \u001b[43mtime\u001b[49m\u001b[38;5;241;43m.\u001b[39;49m\u001b[43msleep\u001b[49m\u001b[43m(\u001b[49m\u001b[38;5;241;43m2\u001b[39;49m\u001b[43m)\u001b[49m\n\u001b[0;32m     26\u001b[0m     cookie_banner \u001b[38;5;241m=\u001b[39m driver\u001b[38;5;241m.\u001b[39mfind_element(By\u001b[38;5;241m.\u001b[39mXPATH, \u001b[38;5;124m'\u001b[39m\u001b[38;5;124m/html/body/div[10]/div/div[2]/a\u001b[39m\u001b[38;5;124m'\u001b[39m)\n\u001b[0;32m     27\u001b[0m     cookie_banner\u001b[38;5;241m.\u001b[39mclick()\n",
      "\u001b[1;31mKeyboardInterrupt\u001b[0m: "
     ]
    }
   ],
   "source": [
    "# Set up WebDriver\n",
    "service = Service(ChromeDriverManager().install())\n",
    "driver = webdriver.Chrome(service=service)\n",
    "\n",
    "# Define lists to store job data\n",
    "job_names = []\n",
    "job_descriptions = []\n",
    "academic_levels = []\n",
    "locations = []\n",
    "salaries = []\n",
    "professional_titles = []\n",
    "experience_levels = []\n",
    "companies = []\n",
    "\n",
    "\n",
    "try:\n",
    "    # Navigate to the webpage\n",
    "    driver.get('https://www.elempleo.com/co/ofertas-empleo/')\n",
    "\n",
    "    # Optionally, wait for some time to let the page load completely\n",
    "    time.sleep(5)\n",
    "\n",
    "    # Close the cookie banner\n",
    "    try:\n",
    "        time.sleep(2)\n",
    "        cookie_banner = driver.find_element(By.XPATH, '/html/body/div[10]/div/div[2]/a')\n",
    "        cookie_banner.click()\n",
    "    except (NoSuchElementException, ElementNotInteractableException):\n",
    "        pass\n",
    "\n",
    "    for i in range(1, 540):\n",
    "        for j in range(1, 51):\n",
    "            # Find elements containing job data\n",
    "            job = driver.find_element(By.XPATH, f'/html/body/div[8]/div[3]/div[1]/div[3]/div[{j}]/div[1]/ul/li[1]/h2/a')\n",
    "            driver.execute_script(\"arguments[0].scrollIntoView();\", job)\n",
    "            job.send_keys(Keys.CONTROL + Keys.RETURN)\n",
    "            driver.switch_to.window(driver.window_handles[-1])\n",
    "            time.sleep(3)\n",
    "            \n",
    "            # Extract job data\n",
    "\n",
    "            job_name = driver.find_element(By.XPATH, f'/html/body/div[7]/div[1]/div/div[1]/h1/span')\n",
    "            job_description = driver.find_element(By.XPATH, f'/html/body/div[7]/div[2]/div[1]/div[1]/div/p[1]/span')\n",
    "            salary = driver.find_element(By.XPATH, f'/html/body/div[7]/div[1]/div/div[1]/div[2]/div[1]/p[1]/span/span[1]')\n",
    "            academic_level = driver.find_element(By.XPATH, f'/html/body/div[7]/div[2]/div[1]/div[2]/div[2]/div[1]/p[3]/span')\n",
    "            location = driver.find_element(By.XPATH, f'/html/body/div[7]/div[1]/div/div[1]/div[2]/div[1]/p[2]/span/span/span[2]')\n",
    "            experience_level = driver.find_element(By.XPATH, f'/html/body/div[7]/div[2]/div[1]/div[2]/div[2]/div[2]/p[1]/span')\n",
    "            try:\n",
    "                company = driver.find_element(By.XPATH, f'/html/body/div[7]/div[1]/div/div[2]/div[1]/div[2]/div[1]/h2')\n",
    "            except NoSuchElementException:\n",
    "                company = driver.find_element(By.XPATH, f'/html/body/div[7]/div[1]/div/div[2]/div/div[2]/p/span/span/strong')\n",
    "            \n",
    "            professional_title = driver.find_element(By.XPATH, f'/html/body/div[7]/div[1]/div/div[1]/div[2]/div[2]/p[2]')\n",
    "            try:\n",
    "                more_prof_titles = professional_title.find_element(By.XPATH, f'/html/body/div[7]/div[1]/div/div[1]/div[2]/div[2]/p[2]/a')\n",
    "                more_prof_titles.click()\n",
    "                time.sleep(5)\n",
    "                professional_titles_list = driver.find_element(By.XPATH, f'/html/body/div[1]/div[3]/div/div/div[2]/div/ul')\n",
    "                titles = professional_titles_list.find_elements(By.TAG_NAME, 'li')\n",
    "                for title in titles:\n",
    "                    professional_titles.append(title.text)\n",
    "            except NoSuchElementException:\n",
    "                professional_titles.append(professional_title.text)\n",
    "                \n",
    "            job_names.append(job_name.text)\n",
    "            job_descriptions.append(job_description.text)\n",
    "            salaries.append(salary.text)\n",
    "            academic_levels.append(academic_level.text)\n",
    "            locations.append(location.text)\n",
    "            companies.append(company.text)\n",
    "            experience_levels.append(experience_level.text)\n",
    "            \n",
    "            driver.close()\n",
    "            driver.switch_to.window(driver.window_handles[0])\n",
    "            time.sleep(2)\n",
    "        time.sleep(5)\n",
    "        print(f'Page {i} done')\n",
    "        next_page = driver.find_element(By.XPATH, f'/html/body/div[8]/div[3]/div[1]/div[4]/div/nav/ul/li[8]/a')\n",
    "        driver.execute_script(\"arguments[0].scrollIntoView();\", next_page)\n",
    "        next_page.click()\n",
    "        time.sleep(10)\n",
    "               \n",
    "finally:\n",
    "    # Close the browser\n",
    "    driver.quit()"
   ]
  },
  {
   "cell_type": "markdown",
   "metadata": {},
   "source": [
    "# Dataframe creation"
   ]
  },
  {
   "cell_type": "code",
   "execution_count": 6,
   "metadata": {},
   "outputs": [],
   "source": [
    "df = pd.DataFrame(zip(job_names, job_descriptions, academic_levels, locations, experience_levels, professional_titles, salaries, companies), columns=['Job Name', 'Job Description', 'Academic Level', 'Location', 'Experience Level', 'Professional Titles', 'Salaries', 'Companies'])"
   ]
  },
  {
   "cell_type": "code",
   "execution_count": 7,
   "metadata": {},
   "outputs": [
    {
     "data": {
      "text/html": [
       "<div>\n",
       "<style scoped>\n",
       "    .dataframe tbody tr th:only-of-type {\n",
       "        vertical-align: middle;\n",
       "    }\n",
       "\n",
       "    .dataframe tbody tr th {\n",
       "        vertical-align: top;\n",
       "    }\n",
       "\n",
       "    .dataframe thead th {\n",
       "        text-align: right;\n",
       "    }\n",
       "</style>\n",
       "<table border=\"1\" class=\"dataframe\">\n",
       "  <thead>\n",
       "    <tr style=\"text-align: right;\">\n",
       "      <th></th>\n",
       "      <th>Job Name</th>\n",
       "      <th>Job Description</th>\n",
       "      <th>Academic Level</th>\n",
       "      <th>Location</th>\n",
       "      <th>Experience Level</th>\n",
       "      <th>Professional Titles</th>\n",
       "      <th>Salaries</th>\n",
       "      <th>Companies</th>\n",
       "    </tr>\n",
       "  </thead>\n",
       "  <tbody>\n",
       "    <tr>\n",
       "      <th>0</th>\n",
       "      <td>Aprendiz en mercadeo</td>\n",
       "      <td>Somos una compañía colombiana dedicada a la di...</td>\n",
       "      <td>Tecnológica</td>\n",
       "      <td>Bogotá</td>\n",
       "      <td>Sin experiencia</td>\n",
       "      <td>Tecnología En Gestión De Mercadeo</td>\n",
       "      <td>$1 a $1,5 millones</td>\n",
       "      <td>BIOMAX</td>\n",
       "    </tr>\n",
       "    <tr>\n",
       "      <th>1</th>\n",
       "      <td>Aprendiz en credito y cartera</td>\n",
       "      <td>Somos una compañía colombiana dedicada a la di...</td>\n",
       "      <td></td>\n",
       "      <td>Bogotá</td>\n",
       "      <td></td>\n",
       "      <td>Técnico en Gestión Empresarial</td>\n",
       "      <td>$1 a $1,5 millones</td>\n",
       "      <td>BIOMAX</td>\n",
       "    </tr>\n",
       "  </tbody>\n",
       "</table>\n",
       "</div>"
      ],
      "text/plain": [
       "                        Job Name  \\\n",
       "0           Aprendiz en mercadeo   \n",
       "1  Aprendiz en credito y cartera   \n",
       "\n",
       "                                     Job Description Academic Level Location  \\\n",
       "0  Somos una compañía colombiana dedicada a la di...    Tecnológica   Bogotá   \n",
       "1  Somos una compañía colombiana dedicada a la di...                  Bogotá   \n",
       "\n",
       "  Experience Level                Professional Titles            Salaries  \\\n",
       "0  Sin experiencia  Tecnología En Gestión De Mercadeo  $1 a $1,5 millones   \n",
       "1                      Técnico en Gestión Empresarial  $1 a $1,5 millones   \n",
       "\n",
       "  Companies  \n",
       "0    BIOMAX  \n",
       "1    BIOMAX  "
      ]
     },
     "execution_count": 7,
     "metadata": {},
     "output_type": "execute_result"
    }
   ],
   "source": [
    "df"
   ]
  }
 ],
 "metadata": {
  "kernelspec": {
   "display_name": "Python 3",
   "language": "python",
   "name": "python3"
  },
  "language_info": {
   "codemirror_mode": {
    "name": "ipython",
    "version": 3
   },
   "file_extension": ".py",
   "mimetype": "text/x-python",
   "name": "python",
   "nbconvert_exporter": "python",
   "pygments_lexer": "ipython3",
   "version": "3.11.6"
  }
 },
 "nbformat": 4,
 "nbformat_minor": 2
}
